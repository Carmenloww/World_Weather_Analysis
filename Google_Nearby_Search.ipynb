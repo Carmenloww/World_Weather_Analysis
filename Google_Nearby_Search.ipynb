{
 "cells": [
  {
   "cell_type": "code",
   "execution_count": 1,
   "metadata": {},
   "outputs": [],
   "source": [
    "# Dependencies and Setup\n",
    "import requests\n",
    "import gmaps\n",
    "\n",
    "# Import API key\n",
    "from config import g_key"
   ]
  },
  {
   "cell_type": "code",
   "execution_count": 2,
   "metadata": {},
   "outputs": [],
   "source": [
    "# Set the parameters to search for a hotel in Paris.\n",
    "params = {\n",
    "    \"radius\": 5000,\n",
    "    \"types\": \"lodging\",\n",
    "    \"key\": g_key,\n",
    "    \"location\": \"48.8566, 2.3522\"}\n",
    "# Use base URL to search for hotels in Paris.\n",
    "base_url = \"https://maps.googleapis.com/maps/api/place/nearbysearch/json\"\n",
    "# Make request and get the JSON data from the search.\n",
    "hotels = requests.get(base_url, params=params).json()"
   ]
  },
  {
   "cell_type": "code",
   "execution_count": 3,
   "metadata": {},
   "outputs": [
    {
     "data": {
      "text/plain": [
       "20"
      ]
     },
     "execution_count": 3,
     "metadata": {},
     "output_type": "execute_result"
    }
   ],
   "source": [
    "len(hotels[\"results\"])"
   ]
  },
  {
   "cell_type": "code",
   "execution_count": 4,
   "metadata": {},
   "outputs": [
    {
     "name": "stdout",
     "output_type": "stream",
     "text": [
      "{'html_attributions': [], 'next_page_token': 'AcnaJv1eDWknsgn7hW9mUmBklXHqQ8nUKehPt0_ZsX9BtIFR4UYjLcDT_kpapcOngtDvhO1s10-gOAos_2OgeW6X3Sz3B6JSy-7_Y6Ad03z18pUVvqjsGTbrFWDi_TiNlW-sg8HXWeIiixygl-yOkTRVRv07D93FC9UuaimRwJPiTWffRCJUcn2zTikbCVvAfBT5HOqNqoTF0ARlRuZt8D1w1mUfX0EK-M6v6QMXE48iXdXfGKXFAAjwmcXhh9bvHNc-6QXzNhwUOzAWEFaJNem9OLNd1l2K6nfnlocE3SfmhKO0IoEwuVIxyz1veqF8tDdfgcijZQFhGKsdh4sbMft1cc9ItQuwSMj0oZDEOTJbqejHbtr1NYlVZHvHcX9C8R2BWHsliznXBHZ-xy1KKS8D1BDP-bKxIWxCVH3pQR_lUfOYG64OIoU', 'results': [{'business_status': 'OPERATIONAL', 'geometry': {'location': {'lat': 48.8581126, 'lng': 2.3529277}, 'viewport': {'northeast': {'lat': 48.8594393802915, 'lng': 2.354352980291502}, 'southwest': {'lat': 48.8567414197085, 'lng': 2.351655019708498}}}, 'icon': 'https://maps.gstatic.com/mapfiles/place_api/icons/v1/png_71/lodging-71.png', 'name': 'Hôtel Duo', 'opening_hours': {'open_now': True}, 'photos': [{'height': 3840, 'html_attributions': ['<a href=\"https://maps.google.com/maps/contrib/107554201425443337224\">Hôtel Duo</a>'], 'photo_reference': 'CmRaAAAA069y8nGDLQ3LkvdAHGU23VG_VmrBo4pqPmdDqUa4XHOUFRkStudePA4EAfpEl5dMNd42iWl9qBJeWTlbutkhGEIncPlnwi0FxI0HhmiaPmUR5xXtmcy5u8O84AY34pHLEhBFXn4cnne4UgmzGNpZwXDNGhRKVIyUjt9GvjcwT4BWdIBZQD12Aw', 'width': 5760}], 'place_id': 'ChIJWU9CqB1u5kcR5P1F2SMoJmc', 'plus_code': {'compound_code': 'V953+65 Paris, France', 'global_code': '8FW4V953+65'}, 'rating': 4.2, 'reference': 'ChIJWU9CqB1u5kcR5P1F2SMoJmc', 'scope': 'GOOGLE', 'types': ['night_club', 'spa', 'lodging', 'bar', 'gym', 'health', 'point_of_interest', 'establishment'], 'user_ratings_total': 277, 'vicinity': '11 Rue du Temple, Paris'}, {'business_status': 'OPERATIONAL', 'geometry': {'location': {'lat': 48.8582861, 'lng': 2.3464944}, 'viewport': {'northeast': {'lat': 48.8595495802915, 'lng': 2.347780980291502}, 'southwest': {'lat': 48.8568516197085, 'lng': 2.345083019708498}}}, 'icon': 'https://maps.gstatic.com/mapfiles/place_api/icons/v1/png_71/lodging-71.png', 'name': 'Hôtel Britannique', 'opening_hours': {'open_now': True}, 'photos': [{'height': 546, 'html_attributions': ['<a href=\"https://maps.google.com/maps/contrib/108984000175492464929\">Hôtel Britannique - Paris Louvre</a>'], 'photo_reference': 'CmRaAAAAvQfg2Sk5PRazyobCY7JBMrH_ZenjPhpfIjJdS0ek-T5CthdHkZ5iRcv0Z1vtFpqA5pfpz89-wiqx7n5_eOQ_by8BQSGzD8TxzSJfv8hX7OVOBUS9rYkkJ-daUXDYqQ8wEhCnv0-RkCvt9sPVqiATjiPfGhQEZ_SlkU3tubd-7Sc87RBhF1rNqw', 'width': 1024}], 'place_id': 'ChIJ-4Siox9u5kcRm9vM6DcMXyU', 'plus_code': {'compound_code': 'V85W+8H Paris, France', 'global_code': '8FW4V85W+8H'}, 'rating': 4.6, 'reference': 'ChIJ-4Siox9u5kcRm9vM6DcMXyU', 'scope': 'GOOGLE', 'types': ['lodging', 'point_of_interest', 'establishment'], 'user_ratings_total': 366, 'vicinity': '20 Avenue Victoria, Paris'}, {'business_status': 'OPERATIONAL', 'geometry': {'location': {'lat': 48.8606655, 'lng': 2.3469293}, 'viewport': {'northeast': {'lat': 48.8618387802915, 'lng': 2.348475730291502}, 'southwest': {'lat': 48.85914081970851, 'lng': 2.345777769708498}}}, 'icon': 'https://maps.gstatic.com/mapfiles/place_api/icons/v1/png_71/lodging-71.png', 'name': 'Citadines Les Halles Paris (Apart Hotel Paris)', 'opening_hours': {'open_now': True}, 'photos': [{'height': 496, 'html_attributions': ['<a href=\"https://maps.google.com/maps/contrib/102565262508115704337\">Citadines Les Halles Paris (Apart Hotel Paris)</a>'], 'photo_reference': 'CmRaAAAAIYMSO9ZbglXf15K2S4LhKlAONjJCAfoXDHnSzPhZ8xsqZNZhqBM9TLPkeR7JCTJJKa8ZcT41aScx3LPZ9Pmdj2eXTcLq5_HPkhm2LDbt1hsrezVIK68HUqVsgPZb-ZxEEhA0aQFWItpF-MlwHIdWvftrGhQyflM4JqBEnjhAZookRRbsOScK2Q', 'width': 745}], 'place_id': 'ChIJQ_QDrxhu5kcRJzNxLLEOSfU', 'plus_code': {'compound_code': 'V86W+7Q Paris, France', 'global_code': '8FW4V86W+7Q'}, 'rating': 4.1, 'reference': 'ChIJQ_QDrxhu5kcRJzNxLLEOSfU', 'scope': 'GOOGLE', 'types': ['lodging', 'point_of_interest', 'establishment'], 'user_ratings_total': 815, 'vicinity': '4 Rue des Innocents, Paris'}, {'business_status': 'OPERATIONAL', 'geometry': {'location': {'lat': 48.8607769, 'lng': 2.3463217}, 'viewport': {'northeast': {'lat': 48.8620135802915, 'lng': 2.347597080291502}, 'southwest': {'lat': 48.8593156197085, 'lng': 2.344899119708498}}}, 'icon': 'https://maps.gstatic.com/mapfiles/place_api/icons/v1/png_71/lodging-71.png', 'name': 'Novotel Paris Les Halles', 'opening_hours': {'open_now': True}, 'photos': [{'height': 2000, 'html_attributions': ['<a href=\"https://maps.google.com/maps/contrib/111815616573299411056\">Novotel Paris Les Halles</a>'], 'photo_reference': 'CmRaAAAA5tThq6vcxqnWrhxuPHk2NpmMbqVbxsVgbDkhTAkToX0aED4ezkdjG5YD-JpzZGh_-6zJRz68IFRnh0qNbx1CfD82gO6aRH3oPMmBB2Y0XEtWMW-wQBupl7GLcXHrYa1QEhCS2uWuVZkX5Lam3fAMBGfEGhRCZ1AfaoDKvkVUsPZDanmyIvBLcA', 'width': 3000}], 'place_id': 'ChIJGW2pNx9u5kcRI3oyL8NG5BQ', 'plus_code': {'compound_code': 'V86W+8G Paris, France', 'global_code': '8FW4V86W+8G'}, 'rating': 4.4, 'reference': 'ChIJGW2pNx9u5kcRI3oyL8NG5BQ', 'scope': 'GOOGLE', 'types': ['lodging', 'point_of_interest', 'establishment'], 'user_ratings_total': 2077, 'vicinity': '8 Place Marguerite de Navarre, Paris'}, {'business_status': 'OPERATIONAL', 'geometry': {'location': {'lat': 48.86034799999999, 'lng': 2.344054}, 'viewport': {'northeast': {'lat': 48.8616503302915, 'lng': 2.345521080291502}, 'southwest': {'lat': 48.8589523697085, 'lng': 2.342823119708498}}}, 'icon': 'https://maps.gstatic.com/mapfiles/place_api/icons/v1/png_71/lodging-71.png', 'name': 'Hôtel Ducs de Bourgogne', 'opening_hours': {'open_now': True}, 'photos': [{'height': 1390, 'html_attributions': ['<a href=\"https://maps.google.com/maps/contrib/101411638353598558320\">Best Western Premier Ducs de Bourgogne</a>'], 'photo_reference': 'CmRaAAAA0HOKg7YBQQGteq3ilJnC72OkqKHqliWd_XIpvPR7IZxX7_ubKqz_go7l31_XMQPEdqGXIt4BMO92tstu2x3tSEuYx85fdhSdXj8YVD3QjHzoOuQVFu2sv1dLviq3XsSEEhCqi3SRTrxe8jR6FMAbZWfuGhQlj3o4fRUYb-tqila5P4l3udSkoA', 'width': 2048}], 'place_id': 'ChIJifTG5yFu5kcRdnisbwxnAx4', 'plus_code': {'compound_code': 'V86V+4J Paris, France', 'global_code': '8FW4V86V+4J'}, 'rating': 4.5, 'reference': 'ChIJifTG5yFu5kcRdnisbwxnAx4', 'scope': 'GOOGLE', 'types': ['lodging', 'point_of_interest', 'establishment'], 'user_ratings_total': 275, 'vicinity': '19 Rue du Pont Neuf, Paris'}, {'business_status': 'OPERATIONAL', 'geometry': {'location': {'lat': 48.8555091, 'lng': 2.3408736}, 'viewport': {'northeast': {'lat': 48.8569076302915, 'lng': 2.342319280291502}, 'southwest': {'lat': 48.8542096697085, 'lng': 2.339621319708498}}}, 'icon': 'https://maps.gstatic.com/mapfiles/place_api/icons/v1/png_71/lodging-71.png', 'name': 'Citadines Saint-Germain-des-Prés Paris', 'opening_hours': {'open_now': True}, 'photos': [{'height': 3024, 'html_attributions': ['<a href=\"https://maps.google.com/maps/contrib/107856881779358840274\">David O&#39;Meara</a>'], 'photo_reference': 'CmRaAAAARgQ8Sf-xuRn6YxGyKjHElR_08YtnYlwzRVgFnKgPeu3OczMmJCv6ZLrxWqWHTbYqKekPmlzErulcHX5Tpi7f_Eij3jb0BMHDeyeXFVhl3wkaJ0u097ykJtO9-YlHMdswEhD8CoXatrq2BeD-3QKjl9dOGhQEQxoZ8tB1lSSQe6LUyJjIJbVTUg', 'width': 4032}], 'place_id': 'ChIJo5pYcN9x5kcRERXdocMgqmE', 'plus_code': {'compound_code': 'V84R+68 Paris, France', 'global_code': '8FW4V84R+68'}, 'rating': 4.3, 'reference': 'ChIJo5pYcN9x5kcRERXdocMgqmE', 'scope': 'GOOGLE', 'types': ['lodging', 'point_of_interest', 'establishment'], 'user_ratings_total': 650, 'vicinity': '53 ter Quai des Grands Augustins, Paris'}, {'business_status': 'OPERATIONAL', 'geometry': {'location': {'lat': 48.86634659999999, 'lng': 2.36064}, 'viewport': {'northeast': {'lat': 48.8677623302915, 'lng': 2.361952180291502}, 'southwest': {'lat': 48.86506436970851, 'lng': 2.359254219708498}}}, 'icon': 'https://maps.gstatic.com/mapfiles/place_api/icons/v1/png_71/lodging-71.png', 'name': 'Paris France Hôtel', 'opening_hours': {'open_now': True}, 'photos': [{'height': 2673, 'html_attributions': ['<a href=\"https://maps.google.com/maps/contrib/102332962500946068613\">Paris France Hôtel</a>'], 'photo_reference': 'CmRaAAAApal8YsPbuV-oCibrjk4xZT8cZqkIOK7anzIN9A1o--OvaC4hFSVLXxTrkWVpI4NXjyDcbwcUR2M7nbWnhUvHbayKGQMQG319_H8taKMel8CMs6cUHF5nuAjdxizljmN6EhBxJIfWbKi-StUXIu9bKrFZGhRzcEoVrZ4g1t99-ywXFXMPpvcc4Q', 'width': 3463}], 'place_id': 'ChIJhXWLZg9u5kcRDVyqoZYgcmg', 'plus_code': {'compound_code': 'V986+G7 Paris, France', 'global_code': '8FW4V986+G7'}, 'rating': 4.3, 'reference': 'ChIJhXWLZg9u5kcRDVyqoZYgcmg', 'scope': 'GOOGLE', 'types': ['lodging', 'point_of_interest', 'establishment'], 'user_ratings_total': 375, 'vicinity': '72 Rue de Turbigo, Paris'}, {'business_status': 'OPERATIONAL', 'geometry': {'location': {'lat': 48.86386539999999, 'lng': 2.3325488}, 'viewport': {'northeast': {'lat': 48.8652309302915, 'lng': 2.333762030291502}, 'southwest': {'lat': 48.8625329697085, 'lng': 2.331064069708498}}}, 'icon': 'https://maps.gstatic.com/mapfiles/place_api/icons/v1/png_71/lodging-71.png', 'name': 'Hotel Regina Louvre', 'opening_hours': {'open_now': True}, 'photos': [{'height': 3700, 'html_attributions': ['<a href=\"https://maps.google.com/maps/contrib/109066439891801774697\">Hôtel Regina Louvre</a>'], 'photo_reference': 'CmRaAAAAuzliOmLmKWMlx2j6oKY6BP58MX5DnhztK0n0w0eRO6PbaNp_UXfDOgIn5AS0QSoQodeg59gP0hhnF4eSW23GUtK6tasGWze5w-uLMWGUkHEKrzw8XFdKREPKUNPVmp4WEhDh88k33fqOUvQoHSYMTwNaGhQW_VZVB5U9J-XesTGpESZmhqUdpg', 'width': 5550}], 'place_id': 'ChIJP_-HCS9u5kcRsj9b1x7Pl8w', 'plus_code': {'compound_code': 'V87M+G2 Paris, France', 'global_code': '8FW4V87M+G2'}, 'rating': 4.5, 'reference': 'ChIJP_-HCS9u5kcRsj9b1x7Pl8w', 'scope': 'GOOGLE', 'types': ['lodging', 'bar', 'restaurant', 'food', 'point_of_interest', 'establishment'], 'user_ratings_total': 500, 'vicinity': '2 Place des Pyramides, Paris'}, {'business_status': 'OPERATIONAL', 'geometry': {'location': {'lat': 48.84795229999999, 'lng': 2.370869}, 'viewport': {'northeast': {'lat': 48.84922153029149, 'lng': 2.372321980291502}, 'southwest': {'lat': 48.84652356970849, 'lng': 2.369624019708498}}}, 'icon': 'https://maps.gstatic.com/mapfiles/place_api/icons/v1/png_71/lodging-71.png', 'name': 'ibis Paris Gare de Lyon Ledru Rollin 12ème', 'opening_hours': {'open_now': True}, 'photos': [{'height': 3024, 'html_attributions': ['<a href=\"https://maps.google.com/maps/contrib/102166088584622554231\">cherry pyj</a>'], 'photo_reference': 'CmRaAAAAt10e5LmB-PeGP7vXl4jMrBQ9ioFAhKPPkKZzR3DAFirw_Y0_lstBElfR4nRfvmR1HCv18IOtMo4he3iTFAusbuIoVZm4D-8PT0TlUQmee3keaBRGpHe-S6lAb2lU6AAHEhAXgAAM0V59oHsqdIp5iT5IGhSNvIUnmUNroVTQvpS-GNHSvSOxSA', 'width': 4032}], 'place_id': 'ChIJ9RNxcQNy5kcRnZJ4vsuXcow', 'plus_code': {'compound_code': 'R9XC+58 Paris, France', 'global_code': '8FW4R9XC+58'}, 'rating': 4, 'reference': 'ChIJ9RNxcQNy5kcRnZJ4vsuXcow', 'scope': 'GOOGLE', 'types': ['lodging', 'point_of_interest', 'establishment'], 'user_ratings_total': 743, 'vicinity': '41/43 Avenue Ledru Rollin, Paris'}, {'business_status': 'OPERATIONAL', 'geometry': {'location': {'lat': 48.8475464, 'lng': 2.3718722}, 'viewport': {'northeast': {'lat': 48.8488750302915, 'lng': 2.373125480291502}, 'southwest': {'lat': 48.8461770697085, 'lng': 2.370427519708498}}}, 'icon': 'https://maps.gstatic.com/mapfiles/place_api/icons/v1/png_71/lodging-71.png', 'name': 'Hôtel De France Gare de Lyon Bastille', 'photos': [{'height': 1960, 'html_attributions': ['<a href=\"https://maps.google.com/maps/contrib/104045426349853231072\">michael scanlon</a>'], 'photo_reference': 'CmRaAAAAJt1Iujy0SI8c1bgowfHpWrKmKTvEPZkka-S6Ji-wFX9OXvnfWHvj-lLh4EARRW5icoFoARDmeVJHj5SIqMyQVbM6RNZDXMSw1dWpzoNdL_30mugBTrV2A52t9mKdPFdXEhB492EF5MeNME0t6ze4ujBwGhSPoW1PlVARh3foTGLDpNS8MPArrg', 'width': 4032}], 'place_id': 'ChIJz6DBYgNy5kcRhOu1LhDIECM', 'plus_code': {'compound_code': 'R9XC+2P Paris, France', 'global_code': '8FW4R9XC+2P'}, 'rating': 3.3, 'reference': 'ChIJz6DBYgNy5kcRhOu1LhDIECM', 'scope': 'GOOGLE', 'types': ['lodging', 'point_of_interest', 'establishment'], 'user_ratings_total': 380, 'vicinity': '12 Rue de Lyon, Paris'}, {'business_status': 'OPERATIONAL', 'geometry': {'location': {'lat': 48.8717386, 'lng': 2.3447052}, 'viewport': {'northeast': {'lat': 48.8731394302915, 'lng': 2.346067130291502}, 'southwest': {'lat': 48.8704414697085, 'lng': 2.343369169708498}}}, 'icon': 'https://maps.gstatic.com/mapfiles/place_api/icons/v1/png_71/lodging-71.png', 'name': 'Hôtel Corona Opéra', 'photos': [{'height': 4000, 'html_attributions': ['<a href=\"https://maps.google.com/maps/contrib/110158133027602673318\">Marisa Pretto</a>'], 'photo_reference': 'CmRaAAAAN7diJGT1jGqZHhjhsgZRA9OHmPiw09BLrVHOJ0GTpl8g5Wwq3xJv-3it988DiThHVxoe17YhpIrAcz2GJSmqdeZR1SwaIZfLLTyAxQzospt4S5tl6drt7Ip3YSDqLkt7EhD-7FPgBATM3KSXkbOYr0U8GhRvq1-cpQ9fD1Ttp6E3OphiQGTKwg', 'width': 3000}], 'place_id': 'ChIJ8e3Qcj5u5kcR2MIGwNxustk', 'plus_code': {'compound_code': 'V8CV+MV Paris, France', 'global_code': '8FW4V8CV+MV'}, 'rating': 4, 'reference': 'ChIJ8e3Qcj5u5kcR2MIGwNxustk', 'scope': 'GOOGLE', 'types': ['lodging', 'point_of_interest', 'establishment'], 'user_ratings_total': 309, 'vicinity': '8 Cité Bergère, Paris'}, {'business_status': 'OPERATIONAL', 'geometry': {'location': {'lat': 48.8423491, 'lng': 2.3632246}, 'viewport': {'northeast': {'lat': 48.84365308029151, 'lng': 2.364707180291502}, 'southwest': {'lat': 48.84095511970851, 'lng': 2.362009219708498}}}, 'icon': 'https://maps.gstatic.com/mapfiles/place_api/icons/v1/png_71/lodging-71.png', 'name': 'Hôtel Libertel Austerlitz Jardin des Plantes', 'opening_hours': {'open_now': True}, 'photos': [{'height': 4480, 'html_attributions': ['<a href=\"https://maps.google.com/maps/contrib/114802271282641766772\">Hôtel Libertel Austerlitz Jardin des Plantes</a>'], 'photo_reference': 'CmRaAAAARaWyrKzgqlPCqA1PhxLjzthfI-ld9zz8xcugUyOAYkZBPWvCB6jfw4djbMnhWbLkxddioEUL1Hl6uTmryT5a3CwgIrMK6HGI5Qcg9O6MH2DcNDc7MOpYRhpLXtTaHKnoEhA4c3LeNE6h5BBbuMGFWPm7GhTt-IYLglmCNyYY4_2MJGTvktxENA', 'width': 6720}], 'place_id': 'ChIJe-udXPZx5kcRKURHNFv5BSw', 'plus_code': {'compound_code': 'R9R7+W7 Paris, France', 'global_code': '8FW4R9R7+W7'}, 'rating': 4, 'reference': 'ChIJe-udXPZx5kcRKURHNFv5BSw', 'scope': 'GOOGLE', 'types': ['lodging', 'point_of_interest', 'establishment'], 'user_ratings_total': 434, 'vicinity': \"12 Boulevard de l'Hôpital, Paris\"}, {'business_status': 'OPERATIONAL', 'geometry': {'location': {'lat': 48.864294, 'lng': 2.3307997}, 'viewport': {'northeast': {'lat': 48.8655898302915, 'lng': 2.332108780291502}, 'southwest': {'lat': 48.8628918697085, 'lng': 2.329410819708498}}}, 'icon': 'https://maps.gstatic.com/mapfiles/place_api/icons/v1/png_71/lodging-71.png', 'name': 'Saint James Albany Paris Hôtel Spa', 'opening_hours': {'open_now': True}, 'photos': [{'height': 1365, 'html_attributions': ['<a href=\"https://maps.google.com/maps/contrib/108570400659068256718\">Saint James Albany Paris Hôtel Spa</a>'], 'photo_reference': 'CmRaAAAAM7FxsEPITwU96nhet9sp8b90wyuWycO7b3iNCrjUIUr5Wp9bQNJ-o680Ila4RnVCoX1w0kTIaY4oJUzR_yItCMRfxlDdX1lockbjFnp49pLTjBu0LwUAZCEM6vntQpqVEhDGP3j1NCBOEjJRLStlasPqGhTyEJASA8kbE9gSOwEHcUIqBjH16A', 'width': 2048}], 'place_id': 'ChIJ8znTVS5u5kcREq8TmzOICFs', 'plus_code': {'compound_code': 'V87J+P8 Paris, France', 'global_code': '8FW4V87J+P8'}, 'rating': 4, 'reference': 'ChIJ8znTVS5u5kcREq8TmzOICFs', 'scope': 'GOOGLE', 'types': ['lodging', 'bar', 'restaurant', 'food', 'point_of_interest', 'establishment'], 'user_ratings_total': 1070, 'vicinity': '202 Rue de Rivoli, Paris'}, {'business_status': 'OPERATIONAL', 'geometry': {'location': {'lat': 48.87110329999999, 'lng': 2.3389728}, 'viewport': {'northeast': {'lat': 48.8724296802915, 'lng': 2.340311330291502}, 'southwest': {'lat': 48.8697317197085, 'lng': 2.337613369708498}}}, 'icon': 'https://maps.gstatic.com/mapfiles/place_api/icons/v1/png_71/lodging-71.png', 'name': 'Hôtel Icône', 'opening_hours': {'open_now': True}, 'photos': [{'height': 1066, 'html_attributions': ['<a href=\"https://maps.google.com/maps/contrib/108137830440312077288\">Hôtel Icône</a>'], 'photo_reference': 'CmRaAAAATSGTZG-2AjQjQtAChfiWuQuU1Q01KqfmoIOPOEQgpO1QG9n1tYOBsqNsyHB53atCXQpvBOWqDB5KO5AFE3vtqI4drZxNgwG-TErbs0WFA4CK4RudooM904wdnP77wG-6EhCAueJAoZunNDZL5SwyaiZ4GhQG9PEBDdtK6JCzPTJz-516wC_FRA', 'width': 1600}], 'place_id': 'ChIJpQvq5Dtu5kcR0COam2f7v_I', 'plus_code': {'compound_code': 'V8CQ+CH Paris, France', 'global_code': '8FW4V8CQ+CH'}, 'rating': 3.7, 'reference': 'ChIJpQvq5Dtu5kcR0COam2f7v_I', 'scope': 'GOOGLE', 'types': ['lodging', 'point_of_interest', 'establishment'], 'user_ratings_total': 135, 'vicinity': \"4 Rue d'Amboise, Paris\"}, {'business_status': 'OPERATIONAL', 'geometry': {'location': {'lat': 48.8654924, 'lng': 2.3271121}, 'viewport': {'northeast': {'lat': 48.8667867302915, 'lng': 2.328593580291502}, 'southwest': {'lat': 48.8640887697085, 'lng': 2.325895619708498}}}, 'icon': 'https://maps.gstatic.com/mapfiles/place_api/icons/v1/png_71/lodging-71.png', 'name': 'The Westin Paris - Vendôme', 'opening_hours': {'open_now': True}, 'photos': [{'height': 810, 'html_attributions': ['<a href=\"https://maps.google.com/maps/contrib/110604580348447711691\">The Westin Paris - Vendôme</a>'], 'photo_reference': 'CmRaAAAAKbFs6TOSKp7NNABX5INxOyyEpr9cKwJU7OxAcEGN7VotkPyMyqQ3-51oqIQyfsQTgAKcdPG-1wAlBs9-RKVQemNXdhCJcNMM-5v8ljjUmdshHl6zQjw9Uzer-vFQmcgMEhCfg8V11ge5f4mI3n79qAvaGhTluZJGKVS6kf72zP3GL3gxdH2UoQ', 'width': 1440}], 'place_id': 'ChIJt4LY5C1u5kcRvVeuJebPxHc', 'plus_code': {'compound_code': 'V88G+5R Paris, France', 'global_code': '8FW4V88G+5R'}, 'rating': 4.4, 'reference': 'ChIJt4LY5C1u5kcRvVeuJebPxHc', 'scope': 'GOOGLE', 'types': ['lodging', 'point_of_interest', 'establishment'], 'user_ratings_total': 2031, 'vicinity': '3 Rue de Castiglione, Paris'}, {'business_status': 'OPERATIONAL', 'geometry': {'location': {'lat': 48.86038899999999, 'lng': 2.323112}, 'viewport': {'northeast': {'lat': 48.8617804302915, 'lng': 2.324489280291502}, 'southwest': {'lat': 48.8590824697085, 'lng': 2.321791319708499}}}, 'icon': 'https://maps.gstatic.com/mapfiles/place_api/icons/v1/png_71/lodging-71.png', 'name': \"Hôtel d'Orsay\", 'opening_hours': {'open_now': True}, 'photos': [{'height': 768, 'html_attributions': ['<a href=\"https://maps.google.com/maps/contrib/115556676131195822021\">Hôtel 4 étoile d&#39;Orsay Paris 7ème</a>'], 'photo_reference': 'CmRaAAAA5vG6zii1Zh67ncBVx9uNupn0yA3ZwTUsizsUvyebpzW1W69qI5g3OnpqxsBwi7qYsXjEB5FJUGkIwT-YO7XgJqDZjNy9l5CcIS45bV246NtjqoOM5fYDShE2g-VL3edAEhAz2DZ5p-5jjcar3euipiKqGhTiAJ03p5Ne8rGjT1A7p6a1JcxroA', 'width': 1152}], 'place_id': 'ChIJu39_OCtu5kcRWVQ7SFa0J-k', 'plus_code': {'compound_code': 'V86F+56 Paris, France', 'global_code': '8FW4V86F+56'}, 'rating': 4.6, 'reference': 'ChIJu39_OCtu5kcRWVQ7SFa0J-k', 'scope': 'GOOGLE', 'types': ['lodging', 'point_of_interest', 'establishment'], 'user_ratings_total': 207, 'vicinity': '93 Rue de Lille, Paris'}, {'business_status': 'OPERATIONAL', 'geometry': {'location': {'lat': 48.8661363, 'lng': 2.3260648}, 'viewport': {'northeast': {'lat': 48.8674534302915, 'lng': 2.327513280291502}, 'southwest': {'lat': 48.8647554697085, 'lng': 2.324815319708498}}}, 'icon': 'https://maps.gstatic.com/mapfiles/place_api/icons/v1/png_71/lodging-71.png', 'name': 'Hôtel Mayfair Paris', 'opening_hours': {'open_now': True}, 'photos': [{'height': 1365, 'html_attributions': ['<a href=\"https://maps.google.com/maps/contrib/113789389085635834164\">Hôtel Mayfair Paris</a>'], 'photo_reference': 'CmRaAAAAlPIaJhCQ01t4U1paUuMUkBpVzRYGopaai5xhhPS3VcSr_sp-T2K1-I-Z6ZuTzKBaoqFibypKoQL2R3SbUzKqapQG7HMWL0mtl4eRLltPHUEj7MvTlQes5j9fBHsZIQwWEhDvGRtivkZITEKP-PHG10uPGhT3YjTldTmoiS_Dtf97K7PQUjuw_g', 'width': 2048}], 'place_id': 'ChIJTXVIhS1u5kcRlm9-RG0srQs', 'plus_code': {'compound_code': 'V88G+FC Paris, France', 'global_code': '8FW4V88G+FC'}, 'rating': 4.2, 'reference': 'ChIJTXVIhS1u5kcRlm9-RG0srQs', 'scope': 'GOOGLE', 'types': ['lodging', 'point_of_interest', 'establishment'], 'user_ratings_total': 245, 'vicinity': '3 Rue Rouget de Lisle, Paris'}, {'business_status': 'OPERATIONAL', 'geometry': {'location': {'lat': 48.8758937, 'lng': 2.3591167}, 'viewport': {'northeast': {'lat': 48.8772932302915, 'lng': 2.360447230291502}, 'southwest': {'lat': 48.8745952697085, 'lng': 2.357749269708498}}}, 'icon': 'https://maps.gstatic.com/mapfiles/place_api/icons/v1/png_71/lodging-71.png', 'name': \"Holiday Inn Paris - Gare de L'Estates\", 'opening_hours': {'open_now': True}, 'photos': [{'height': 1366, 'html_attributions': ['<a href=\"https://maps.google.com/maps/contrib/102027969916801631519\">Holiday Inn Paris - Gare de l&#39;Est</a>'], 'photo_reference': 'CmRaAAAA8xjvIHhBQZPy3ADPBuCdObX4mGwoYAIwyAFvuAFIaWIxyLma-YXj3BQWemiYMWIXIVNURdC2VCLepdYTozhIVfpeEaR9M_TTsOaLv1lYJR6cmABw_qAXGy0B_qukgSllEhAbA-SOhreLGNQq1pInz971GhQG38f87Oe6N8DorAqEqFIDCRjpWA', 'width': 2048}], 'place_id': 'ChIJwUHJSg1u5kcRhNqw_oQNeKI', 'plus_code': {'compound_code': 'V9G5+9J Paris, France', 'global_code': '8FW4V9G5+9J'}, 'rating': 3.8, 'reference': 'ChIJwUHJSg1u5kcRhNqw_oQNeKI', 'scope': 'GOOGLE', 'types': ['lodging', 'point_of_interest', 'establishment'], 'user_ratings_total': 1525, 'vicinity': '5, 45 Rue du 8 Mai 1945, Paris'}, {'business_status': 'OPERATIONAL', 'geometry': {'location': {'lat': 48.8722237, 'lng': 2.3333825}, 'viewport': {'northeast': {'lat': 48.8734762802915, 'lng': 2.334606530291502}, 'southwest': {'lat': 48.8707783197085, 'lng': 2.331908569708498}}}, 'icon': 'https://maps.gstatic.com/mapfiles/place_api/icons/v1/png_71/lodging-71.png', 'name': 'W Paris - Opéra', 'opening_hours': {'open_now': True}, 'photos': [{'height': 810, 'html_attributions': ['<a href=\"https://maps.google.com/maps/contrib/102893350184547703500\">W Paris - Opéra</a>'], 'photo_reference': 'CmRaAAAAu8eRh0gmmZMpRHmkecc3oK1Tp03ouTbfkXpiaxzrTSeH0RrcwUKisicCQjWJPm9AmaB446yzqQ5_4Ymv11zHSppyOGMMtNQHf9vmDXiP0RTbhgdMF4K9pHLXxh_m46PvEhBjH4Iny6_4tl2QybC33-mZGhQMTszkoBG15xYmfpEi3HCzhBmuJw', 'width': 1440}], 'place_id': 'ChIJiVMcgTRu5kcRbXfOviG7AqI', 'plus_code': {'compound_code': 'V8CM+V9 Paris, France', 'global_code': '8FW4V8CM+V9'}, 'rating': 4.2, 'reference': 'ChIJiVMcgTRu5kcRbXfOviG7AqI', 'scope': 'GOOGLE', 'types': ['lodging', 'point_of_interest', 'establishment'], 'user_ratings_total': 492, 'vicinity': '4 Rue Meyerbeer, Paris'}, {'business_status': 'CLOSED_TEMPORARILY', 'geometry': {'location': {'lat': 48.8708361, 'lng': 2.3307253}, 'viewport': {'northeast': {'lat': 48.8722390802915, 'lng': 2.331806380291502}, 'southwest': {'lat': 48.8695411197085, 'lng': 2.329108419708498}}}, 'icon': 'https://maps.gstatic.com/mapfiles/place_api/icons/v1/png_71/lodging-71.png', 'name': 'InterContinental Paris - Le Grand', 'permanently_closed': True, 'photos': [{'height': 1339, 'html_attributions': ['<a href=\"https://maps.google.com/maps/contrib/107945298839607703601\">InterContinental Paris - Le Grand</a>'], 'photo_reference': 'CmRaAAAAJXP5EloGmQkmzcpORj-o7l19QJMLZxRxYmK1X00ce_InxkBYQWcl3whKu3EdvlPLaE5OWynHCjlqEd9LFDKgcL6Q0DtvOY9ZR4kVTGvsEDRjSqmxNIWQEDmtFOkai_IREhDzl-8Q48qVswAoixTdQJMQGhT-567FFz2wpdxV5sN_roGH82j9Pw', 'width': 2048}], 'place_id': 'ChIJt4LY5C1u5kcRZmZx4KyzhVM', 'plus_code': {'compound_code': 'V8CJ+87 Paris, France', 'global_code': '8FW4V8CJ+87'}, 'rating': 4.6, 'reference': 'ChIJt4LY5C1u5kcRZmZx4KyzhVM', 'scope': 'GOOGLE', 'types': ['lodging', 'point_of_interest', 'establishment'], 'user_ratings_total': 2402, 'vicinity': '2 Rue Scribe, Paris'}], 'status': 'OK'}\n"
     ]
    }
   ],
   "source": [
    "print(hotels)"
   ]
  },
  {
   "cell_type": "code",
   "execution_count": 5,
   "metadata": {},
   "outputs": [
    {
     "data": {
      "text/plain": [
       "'Hôtel Duo'"
      ]
     },
     "execution_count": 5,
     "metadata": {},
     "output_type": "execute_result"
    }
   ],
   "source": [
    "# How would you retrieve the name of the first hotel in the results dictionary?\n",
    "hotels[\"results\"][0][\"name\"]"
   ]
  },
  {
   "cell_type": "code",
   "execution_count": null,
   "metadata": {},
   "outputs": [],
   "source": []
  },
  {
   "cell_type": "code",
   "execution_count": null,
   "metadata": {},
   "outputs": [],
   "source": []
  }
 ],
 "metadata": {
  "kernelspec": {
   "display_name": "PythonData",
   "language": "python",
   "name": "pythondata"
  },
  "language_info": {
   "codemirror_mode": {
    "name": "ipython",
    "version": 3
   },
   "file_extension": ".py",
   "mimetype": "text/x-python",
   "name": "python",
   "nbconvert_exporter": "python",
   "pygments_lexer": "ipython3",
   "version": "3.7.7"
  }
 },
 "nbformat": 4,
 "nbformat_minor": 4
}
